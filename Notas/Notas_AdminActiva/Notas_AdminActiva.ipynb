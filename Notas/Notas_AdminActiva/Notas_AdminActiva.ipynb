{
  "metadata": {
    "kernelspec": {
      "name": "r",
      "display_name": "R",
      "language": "R"
    },
    "language_info": {
      "mimetype": "text/x-r-source",
      "name": "R",
      "pygments_lexer": "r",
      "version": "3.4.1",
      "file_extension": ".r",
      "codemirror_mode": "r"
    }
  },
  "nbformat_minor": 2,
  "nbformat": 4,
  "cells": [
    {
      "cell_type": "markdown",
      "source": "# Microestructura y Sistemas de Trading",
      "metadata": {}
    },
    {
      "cell_type": "markdown",
      "source": "## Notas de Administracion Activa",
      "metadata": {}
    },
    {
      "cell_type": "code",
      "source": "# Remover todos los objetos del \"Environment\"\nrm(list = ls())\n\n# los 0s aceptados antes de expresas una cifra en notacion cientifica\noptions(\"scipen\"=100, \"digits\"=4)\n\n# Librerias a utilizar\npkg <- c(\"Quandl\",\"ROI\",\"knitr\",\"openxlsx\",\"kableExtra\",\"PortfolioAnalytics\")\n\n# Verificar si estan instaladas y/o cargar librerias\ninstalados <- pkg %in% installed.packages()\nif(length(pkg[!instalados]) > 0) install.packages(pkg[!instalados])\ninstalledpackages <- lapply(pkg, library, character.only=TRUE)\n\noptions(knitr.table.format = \"html\") \n\n# Cargar el token de QUANDL\nQuandl.api_key(\"dN9QssXxzTxndaqKUQ_i\")",
      "metadata": {
        "trusted": true
      },
      "execution_count": 1,
      "outputs": [
        {
          "text": "Installing packages into ‘/home/nbuser/R’\n(as ‘lib’ is unspecified)\nalso installing the dependency ‘PerformanceAnalytics’\n\nLoading required package: xts\nLoading required package: zoo\n\nAttaching package: ‘zoo’\n\nThe following objects are masked from ‘package:base’:\n\n    as.Date, as.Date.numeric\n\nROI.plugin.nlminb: R Optimization Infrastructure\nRegistered solver plugins: nlminb.\nDefault solver: auto.\nLoading required package: foreach\nLoading required package: PerformanceAnalytics\n\nAttaching package: ‘PerformanceAnalytics’\n\nThe following object is masked from ‘package:graphics’:\n\n    legend\n\n\nAttaching package: ‘PortfolioAnalytics’\n\nThe following objects are masked from ‘package:ROI’:\n\n    is.constraint, objective\n\n",
          "name": "stderr",
          "output_type": "stream"
        }
      ]
    },
    {
      "cell_type": "code",
      "source": "# Funcion para descagar precios\nBajar_Precios <- function(Columns, Tickers, Fecha_In, Fecha_Fn) {\n  \n  # Funcion para descargar N cantidad de activos desde QUANDL\n  # -- Dependencias: QUANDL\n  # -- Columns : columnas a incluir : character : c(\"date\", \"adj_close\", ... )\n  # -- Tickers : Tickers o claves de pizarra de los activos : character : \"TSLA\"\n  # -- Fecha_In : Fecha Inicial : character : \"2017-01-02\"\n  # -- Fecha_Fn : Fecha Final : character : \"2017-08-02\"\n  \n  # Peticion para descargar precios\n  Datos <- Quandl.datatable(\"WIKI/PRICES\", qopts.columns=Columns,\n                            ticker=Tickers,\n                            date.gte=Fecha_In, date.lte=Fecha_Fn)\n  return(Datos)\n}",
      "metadata": {
        "trusted": true
      },
      "execution_count": 30,
      "outputs": []
    },
    {
      "cell_type": "code",
      "source": "# Tickers de acciones contenidas en ETF-IAK\n\nDatos_ETF <- read.xlsx(\"IAK_holdings.xlsx\", sheet = 1)\ntk  <- as.character(na.omit(Datos_ETF[which(Datos_ETF[,1] == \"Ticker\")+1:length(Datos_ETF[,1]),1]))\ncs <- c(\"date\", \"adj_close\")",
      "metadata": {
        "trusted": true
      },
      "execution_count": 31,
      "outputs": []
    },
    {
      "cell_type": "code",
      "source": "# Fecha inicial y fecha final\nfs <- c(\"2016-09-01\", \"2018-09-01\")\n\n# Descargar Precios\nDatos <- list()\nfor(i in 1:length(tk)) {\n  Datos[[i]] <- Bajar_Precios(Columns=cs, Ticker=tk[i], Fecha_In=fs[1], Fecha_Fn=fs[2])\n}\n\nnames(Datos) <- tk",
      "metadata": {
        "trusted": true
      },
      "execution_count": 32,
      "outputs": []
    },
    {
      "cell_type": "markdown",
      "source": "## Datos Completos",
      "metadata": {}
    },
    {
      "cell_type": "code",
      "source": "longitudes <- c()\n\nfor(i in 1:length(Datos)){\n  longitudes[i] <- length(Datos[[i]]$date)\n}\n\nmaximo <- max(longitudes)\ncompletos <- which(longitudes == maximo)\n\nDatosN <- Datos[completos]",
      "metadata": {
        "trusted": true
      },
      "execution_count": 33,
      "outputs": []
    },
    {
      "cell_type": "code",
      "source": "# Vector para almacenar columnas de interes\ncolumnas <- c()\nnuevos   <- c()\n\n# Funci?n para repetir una funci?n por cada columna del data.frame\nPrecios <- do.call(cbind, DatosN)\n\n# Crear vector con nombres de columnas de interes = \"nombredeactivo.adj_close_r\"\nfor(i in 1:length(tk)){\n  nuevos[i] <- paste(tk[i], \".adj_close\", sep=\"\")\n}\n\n# Extraer 1 renglon para obtener los nombres de las columnas\nnombres <- colnames(Precios[1,(names(Precios) %in% nuevos)])\n\n# Elejir una columna Date y las dem?s columnas de rendimientos\nPrecios <- Precios[,(names(Precios) %in% nuevos)]\nrow.names(Precios) <- DatosN[[1]]$date\n\n# Reasignar nombres al data.frame\ntk_completos <- as.character(tk[completos])\ncolnames(Precios) <- tk_completos",
      "metadata": {
        "trusted": true
      },
      "execution_count": 34,
      "outputs": []
    },
    {
      "cell_type": "code",
      "source": "Historico <- data.frame(\"Date\" = row.names(Precios),\n                        \"Precio\" = Precios[,2], \n                        \"R_Precio\" = 0, \n                        \"R_Activo\" = 0,\n                        \"R_Cuenta\" = 0, \n                        \"Capital\" = 0, \"Balance\" = 0, \"Titulos\" = 0,\n                        \"Titulos_a\" = 0,\n                        \"Operacion\" = NA, \"Comisiones\" = 0, \"Comisiones_a\" = 0, \"Mensaje\" = NA)\n\n# *Date*       : Fecha (Proviene desde los precios que bajaron).\n# *Precio*     : Precio individual del activo.\n# *R_Precio*   : Rendimiento diario del precio (dia a dia).\n# *R_Activo*   : Rendimiento acumulado del precio (Cada dia respecto al precio inicial).\n# *Capital*    : El dinero no invertido (Equivalente a Efectivo).\n# *Balance*    : El valor del portafolio (Precio diario X Titulos).\n# *R_Cuenta*   : Balance + Capital (Cada dia respecto al capital inicial).\n# *Titulos*    : Acciones que se tienen.\n# *Titulos_a*  : Titulos acumulados.\n# *Operacion*  : Indicativo de Compra (1), Mantener (0), Venta (-1).\n# *Comisiones* : 0.0025 o 0.25% por el valor de la transaccion.\n# *Mensaje*    : Un texto que indique alguna decision o indicativo de que ocurrio algo.\n\nRegla0_R <- -0.03  # Considerar una oportunidad de compra en un rendimiento de -3% o menor.\nRegla1_I <- 0.20   # Porcentaje de capital para comprar titulos para posicion Inicial.\nRegla2_P <- 0.25   # Se utiliza el P% del L capital restante en cada compra.\nRegla3_W <- tk_completos # Se realiza la misma estrategia para todos los activos en el portafolio.\nRegla4_C <- 0.0025 # Comisiones pagadas por compra.\nRegla5_K <- 100000 # Capital Inicial.\n",
      "metadata": {
        "trusted": true
      },
      "execution_count": 39,
      "outputs": []
    },
    {
      "cell_type": "code",
      "source": "# -- Calcular los Titulos de posicion inicial\nHistorico$Titulos[1] <- (Regla5_K*Regla1_I)%/%Historico$Precio[1]\n\n# -- Se calculan comisiones iniciales\nHistorico$Comisiones[1] <- Historico$Titulos[1]*Historico$Precio[1]*Regla4_C\n\n# -- Se calculan comisiones acumuladas\nHistorico$Comisiones_a[1] <- Historico$Comisiones[1]\n\n# -- Calcular el Balance\nHistorico$Balance[1] <- Historico$Titulos[1]*Historico$Precio[1]\n\n# -- Todo remanente se dejar? registrado en la cuenta de efectivo.\nHistorico$Capital[1] <- Regla5_K-Historico$Balance[1]-Historico$Comisiones[1]\n\n# -- Iniciamos con una postura de mantener.\nHistorico$Operacion[1] <- \"Posicion Inicial\"\n\n# -- El rendimiento de capital en el tiempo 1 es 0\nHistorico$R_Cuenta[1] <- 0\n\n# -- Mensaje inicial\nHistorico$Mensaje[1] <- \"Inicializacion de cartera\"\n\n# -- Calcular R_Precio\nHistorico$R_Precio <- round(c(0, diff(log(Historico$Precio))),4)\n\n# -- Calcular R_Activo\nfor(i in 1:length(Historico$Date)){\n  Historico$R_Activo[i] <- round((Historico$Precio[i]/Historico$Precio[1])-1,2)\n}",
      "metadata": {
        "trusted": true
      },
      "execution_count": 40,
      "outputs": []
    },
    {
      "cell_type": "markdown",
      "source": "### Calculos de todas las cuentas dia por dia",
      "metadata": {}
    },
    {
      "cell_type": "code",
      "source": "\nfor(i in 2:length(Historico$Date)){\n\n  if(Historico$R_Precio[i] <= Regla0_R){ # Generar Señal\n    \n    # Establecer capital actual, inicialmente, igual al capital anterior\n    Historico$Capital[i] <- Historico$Capital[i-1]\n    \n    if(Historico$Capital[i] > 0){ # Si hay capital\n      \n      if(Historico$Capital[i]*Regla2_P > Historico$Precio[i]){ # Si Capital minimo\n        \n        Historico$Operacion[i] <- \"Compra\"\n        Historico$Titulos[i]   <- (Historico$Capital[i]*Regla2_P)%/%Historico$Precio[i]\n        \n        compra <- Historico$Precio[i]*Historico$Titulos[i]  \n        Historico$Comisiones[i] <- compra*Regla4_C\n        \n        Historico$Titulos_a[i] <- Historico$Titulos[i-1]+Historico$Titulos[i]\n\n      }\n      \n    }\n    else { # No hubo capital\n      \n      \n    }\n    \n    \n  }\n  else { # Sin señal\n  }\n}\n",
      "metadata": {
        "trusted": true
      },
      "execution_count": 41,
      "outputs": []
    },
    {
      "cell_type": "code",
      "source": "head(Historico)",
      "metadata": {
        "trusted": true
      },
      "execution_count": 42,
      "outputs": [
        {
          "output_type": "display_data",
          "data": {
            "text/plain": "  Date       Precio R_Precio R_Activo R_Cuenta Capital Balance Titulos\n1 2018-03-27 53.78   0.0000   0.00    0        79998   19952   371    \n2 2018-03-26 54.21   0.0080   0.01    0            0       0     0    \n3 2018-03-23 53.41  -0.0149  -0.01    0            0       0     0    \n4 2018-03-22 54.81   0.0259   0.02    0            0       0     0    \n5 2018-03-21 55.84   0.0186   0.04    0            0       0     0    \n6 2018-03-20 55.63  -0.0038   0.03    0            0       0     0    \n  Titulos_a Operacion        Comisiones Comisiones_a Mensaje                  \n1 0         Posicion Inicial 49.88      49.88        Inicializacion de cartera\n2 0         NA                0.00       0.00        NA                       \n3 0         NA                0.00       0.00        NA                       \n4 0         NA                0.00       0.00        NA                       \n5 0         NA                0.00       0.00        NA                       \n6 0         NA                0.00       0.00        NA                       ",
            "text/latex": "\\begin{tabular}{r|lllllllllllll}\n Date & Precio & R\\_Precio & R\\_Activo & R\\_Cuenta & Capital & Balance & Titulos & Titulos\\_a & Operacion & Comisiones & Comisiones\\_a & Mensaje\\\\\n\\hline\n\t 2018-03-27                & 53.78                     &  0.0000                   &  0.00                     & 0                         & 79998                     & 19952                     & 371                       & 0                         & Posicion Inicial          & 49.88                     & 49.88                     & Inicializacion de cartera\\\\\n\t 2018-03-26                & 54.21                     &  0.0080                   &  0.01                     & 0                         &     0                     &     0                     &   0                       & 0                         & NA                        &  0.00                     &  0.00                     & NA                       \\\\\n\t 2018-03-23                & 53.41                     & -0.0149                   & -0.01                     & 0                         &     0                     &     0                     &   0                       & 0                         & NA                        &  0.00                     &  0.00                     & NA                       \\\\\n\t 2018-03-22                & 54.81                     &  0.0259                   &  0.02                     & 0                         &     0                     &     0                     &   0                       & 0                         & NA                        &  0.00                     &  0.00                     & NA                       \\\\\n\t 2018-03-21                & 55.84                     &  0.0186                   &  0.04                     & 0                         &     0                     &     0                     &   0                       & 0                         & NA                        &  0.00                     &  0.00                     & NA                       \\\\\n\t 2018-03-20                & 55.63                     & -0.0038                   &  0.03                     & 0                         &     0                     &     0                     &   0                       & 0                         & NA                        &  0.00                     &  0.00                     & NA                       \\\\\n\\end{tabular}\n",
            "text/markdown": "\nDate | Precio | R_Precio | R_Activo | R_Cuenta | Capital | Balance | Titulos | Titulos_a | Operacion | Comisiones | Comisiones_a | Mensaje | \n|---|---|---|---|---|---|\n| 2018-03-27                | 53.78                     |  0.0000                   |  0.00                     | 0                         | 79998                     | 19952                     | 371                       | 0                         | Posicion Inicial          | 49.88                     | 49.88                     | Inicializacion de cartera | \n| 2018-03-26                | 54.21                     |  0.0080                   |  0.01                     | 0                         |     0                     |     0                     |   0                       | 0                         | NA                        |  0.00                     |  0.00                     | NA                        | \n| 2018-03-23                | 53.41                     | -0.0149                   | -0.01                     | 0                         |     0                     |     0                     |   0                       | 0                         | NA                        |  0.00                     |  0.00                     | NA                        | \n| 2018-03-22                | 54.81                     |  0.0259                   |  0.02                     | 0                         |     0                     |     0                     |   0                       | 0                         | NA                        |  0.00                     |  0.00                     | NA                        | \n| 2018-03-21                | 55.84                     |  0.0186                   |  0.04                     | 0                         |     0                     |     0                     |   0                       | 0                         | NA                        |  0.00                     |  0.00                     | NA                        | \n| 2018-03-20                | 55.63                     | -0.0038                   |  0.03                     | 0                         |     0                     |     0                     |   0                       | 0                         | NA                        |  0.00                     |  0.00                     | NA                        | \n\n\n",
            "text/html": "<table>\n<thead><tr><th scope=col>Date</th><th scope=col>Precio</th><th scope=col>R_Precio</th><th scope=col>R_Activo</th><th scope=col>R_Cuenta</th><th scope=col>Capital</th><th scope=col>Balance</th><th scope=col>Titulos</th><th scope=col>Titulos_a</th><th scope=col>Operacion</th><th scope=col>Comisiones</th><th scope=col>Comisiones_a</th><th scope=col>Mensaje</th></tr></thead>\n<tbody>\n\t<tr><td>2018-03-27               </td><td>53.78                    </td><td> 0.0000                  </td><td> 0.00                    </td><td>0                        </td><td>79998                    </td><td>19952                    </td><td>371                      </td><td>0                        </td><td>Posicion Inicial         </td><td>49.88                    </td><td>49.88                    </td><td>Inicializacion de cartera</td></tr>\n\t<tr><td>2018-03-26               </td><td>54.21                    </td><td> 0.0080                  </td><td> 0.01                    </td><td>0                        </td><td>    0                    </td><td>    0                    </td><td>  0                      </td><td>0                        </td><td>NA                       </td><td> 0.00                    </td><td> 0.00                    </td><td>NA                       </td></tr>\n\t<tr><td>2018-03-23               </td><td>53.41                    </td><td>-0.0149                  </td><td>-0.01                    </td><td>0                        </td><td>    0                    </td><td>    0                    </td><td>  0                      </td><td>0                        </td><td>NA                       </td><td> 0.00                    </td><td> 0.00                    </td><td>NA                       </td></tr>\n\t<tr><td>2018-03-22               </td><td>54.81                    </td><td> 0.0259                  </td><td> 0.02                    </td><td>0                        </td><td>    0                    </td><td>    0                    </td><td>  0                      </td><td>0                        </td><td>NA                       </td><td> 0.00                    </td><td> 0.00                    </td><td>NA                       </td></tr>\n\t<tr><td>2018-03-21               </td><td>55.84                    </td><td> 0.0186                  </td><td> 0.04                    </td><td>0                        </td><td>    0                    </td><td>    0                    </td><td>  0                      </td><td>0                        </td><td>NA                       </td><td> 0.00                    </td><td> 0.00                    </td><td>NA                       </td></tr>\n\t<tr><td>2018-03-20               </td><td>55.63                    </td><td>-0.0038                  </td><td> 0.03                    </td><td>0                        </td><td>    0                    </td><td>    0                    </td><td>  0                      </td><td>0                        </td><td>NA                       </td><td> 0.00                    </td><td> 0.00                    </td><td>NA                       </td></tr>\n</tbody>\n</table>\n"
          },
          "metadata": {}
        }
      ]
    },
    {
      "cell_type": "code",
      "source": "",
      "metadata": {},
      "execution_count": null,
      "outputs": []
    }
  ]
}