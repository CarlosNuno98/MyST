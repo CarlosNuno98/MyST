{
 "cells": [
  {
   "cell_type": "code",
   "execution_count": 1,
   "metadata": {},
   "outputs": [],
   "source": [
    "# -- ------------------------------------------------------------- Importar modulos a utilizar -- #\n",
    "# -- ------------------------------------------------------------- --------------------------- -- #\n",
    "\n",
    "import ta as ta\n",
    "import pandas as pd\n",
    "from oandapyV20 import API\n",
    "import oandapyV20.endpoints.instruments as instruments\n",
    "import plotly.graph_objs as go\n",
    "import plotly as py"
   ]
  },
  {
   "cell_type": "code",
   "execution_count": 2,
   "metadata": {},
   "outputs": [],
   "source": [
    "# -- ------------------------------------------------------------------- Parametros para OANDA -- #\n",
    "# -- ------------------------------------------------------------------- --------------------- -- #\n",
    "\n",
    "pd.set_option('display.max_rows', 10)\n",
    "pd.set_option('display.max_columns', 200)\n",
    "pd.set_option('display.width', 1000)"
   ]
  },
  {
   "cell_type": "code",
   "execution_count": 7,
   "metadata": {},
   "outputs": [],
   "source": [
    "# -- ------------------------------------------------------------------- Parametros para OANDA -- #\n",
    "# -- ------------------------------------------------------------------- --------------------- -- #\n",
    "\n",
    "A1_OA_Da = 17                     # Day Align\n",
    "A1_OA_Ta = \"America/Mexico_City\"  # Time Align\n",
    "\n",
    "A1_OA_Ai = \"101-004-2221697-001\"  # Id de cuenta\n",
    "A1_OA_At = \"practice\"             # Tipo de cuenta\n",
    "\n",
    "A1_OA_In = \"USD_MXN\"              # Instrumento\n",
    "A1_OA_Gn = \"H1\"                   # Granularidad de velas\n",
    "\n",
    "A1_OA_Ak = '26b62ddbe404c61a1cc9da0ed8395945-52d44ef76c42b62460581783bba6c8ea'\n",
    "\n",
    "F1 = \"2017-01-01T00:00:00Z\"\n",
    "F2 = \"2017-02-01T00:00:00Z\""
   ]
  },
  {
   "cell_type": "code",
   "execution_count": 8,
   "metadata": {},
   "outputs": [],
   "source": [
    "# -- ---------------------------------------------------------------- Inicializar API de OANDA -- #\n",
    "# -- ---------------------------------------------------------------- ------------------------ -- #\n",
    "\n",
    "api = API(access_token=A1_OA_Ak)"
   ]
  },
  {
   "cell_type": "code",
   "execution_count": 10,
   "metadata": {},
   "outputs": [],
   "source": [
    "# -- -------------------------------------------------------------- Obtener precios historicos -- #\n",
    "# -- -------------------------------------------------------------- -------------------------- -- #\n",
    "\n",
    "params = {\"granularity\": A1_OA_Gn, \"price\": \"M\", \"dailyAlignment\": A1_OA_Da,\n",
    "          \"alignmentTimezone\": A1_OA_Ta, \"from\": F1, \"to\": F2}\n",
    "\n",
    "A1_Req1 = instruments.InstrumentsCandles(instrument=A1_OA_In, params=params)\n",
    "A1_Hist = api.request(A1_Req1)"
   ]
  },
  {
   "cell_type": "code",
   "execution_count": 11,
   "metadata": {},
   "outputs": [],
   "source": [
    "lista = []\n",
    "for i in range(len(A1_Hist['candles'])-1):\n",
    "        lista.append({'TimeStamp': A1_Hist['candles'][i]['time'],\n",
    "                      'Open': A1_Hist['candles'][i]['mid']['o'],\n",
    "                      'High': A1_Hist['candles'][i]['mid']['h'],\n",
    "                      'Low': A1_Hist['candles'][i]['mid']['l'],\n",
    "                      'Close': A1_Hist['candles'][i]['mid']['c']})\n",
    "\n",
    "pd_hist = pd.DataFrame(lista)\n",
    "pd_hist = pd_hist[['TimeStamp', 'Open', 'High', 'Low', 'Close']]\n",
    "pd_hist['TimeStamp'] = pd.to_datetime(pd_hist['TimeStamp'])"
   ]
  },
  {
   "cell_type": "code",
   "execution_count": 12,
   "metadata": {},
   "outputs": [],
   "source": [
    "# -- ---------------------------------------------------------------- Agregar analisis tecnico -- #\n",
    "# -- ---------------------------------------------------------------- ------------------------ -- #\n",
    "\n",
    "pd_hist['ema_Close'] = ta.ema(series=pd_hist['Close'], periods=20)"
   ]
  },
  {
   "cell_type": "code",
   "execution_count": 13,
   "metadata": {},
   "outputs": [
    {
     "data": {
      "text/plain": [
       "'file:///media/franciscome/DATA/GitHub/MyST/Notas_Python/Notas_AnalisisTecnico/file.html'"
      ]
     },
     "execution_count": 13,
     "metadata": {},
     "output_type": "execute_result"
    }
   ],
   "source": [
    "# -- ------------------------------------------------------------------- --------------------- -- #\n",
    "# -- ------------------------------------------------------------------- --------------------- -- #\n",
    "\n",
    "trace0 = go.Scatter(x=pd_hist['TimeStamp'], y=pd_hist['ema_Close'],\n",
    "                    mode='lines', name='lines0')\n",
    "\n",
    "trace1 = go.Scatter(x=pd_hist['TimeStamp'], y=pd_hist['Close'],\n",
    "                    mode='lines', name='lines1')\n",
    "\n",
    "data = [trace0, trace1]\n",
    "\n",
    "py.offline.plot(data, filename='file.html')"
   ]
  }
 ],
 "metadata": {
  "kernelspec": {
   "display_name": "Python 3",
   "language": "python",
   "name": "python3"
  },
  "language_info": {
   "codemirror_mode": {
    "name": "ipython",
    "version": 3
   },
   "file_extension": ".py",
   "mimetype": "text/x-python",
   "name": "python",
   "nbconvert_exporter": "python",
   "pygments_lexer": "ipython3",
   "version": "3.7.0"
  }
 },
 "nbformat": 4,
 "nbformat_minor": 2
}
