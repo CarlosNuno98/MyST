{
 "cells": [
  {
   "cell_type": "code",
   "execution_count": null,
   "metadata": {},
   "outputs": [],
   "source": []
  },
  {
   "cell_type": "code",
   "execution_count": null,
   "metadata": {},
   "outputs": [],
   "source": [
    "# -- ------------------------------------------------------------------------------------ Datos: Precios con OANDA -- #\n",
    "\n",
    "OA_Da = 16                         # Day Align\n",
    "OA_Ai = \"101-004-2221697-001\"      # Id de cuenta\n",
    "OA_At = \"practice\"                 # Tipo de cuenta\n",
    "OA_In = \"EUR_USD\"                  # Instrumento\n",
    "OA_Gn = \"M5\"                       # Granularidad de velas\n",
    "FechaIni = \"2009-01-06 00:00:00\"   # Fecha inicial\n",
    "FechaFin = \"2019-09-27 00:00:00\"   # Fecha final\n",
    "\n",
    "# cohercionar las fechas a huso horario GMT\n",
    "fini = pd.to_datetime(FechaIni).tz_localize('GMT')\n",
    "ffin = pd.to_datetime(FechaFin).tz_localize('GMT')\n",
    "\n",
    "# Token para API de OANDA\n",
    "OA_Ak = '7' + '9ae0a52f8e483facdd81f5b316a8ef8-99fb5554f4739c76535b209044f7de2' + '6'\n",
    "\n",
    "# Leer archivo de precios historicos\n",
    "df_pe = pd.read_csv(\"archivos/precios_historicos.csv\")\n",
    "\n",
    "# -- -------------------------------------------------------------------------------- Proceso de descarga completo -- #\n",
    "# -- -------------------------------------------------------------------------------- ---------------------------- -- #\n",
    "# -- Solo correr esta parte si se quiere descargar todos los precios\n",
    "\n",
    "# Descagar todos los precios necesarios (descomentar la linea de import funciones as fn)\n",
    "# df_pe = fn.f_precios_masivos(p0_fini=fini, p1_ffin=ffin, p2_gran=OA_Gn, p3_inst=OA_In, p4_oatk=OA_Ak, p5_ginc=5000)\n",
    "\n",
    "# Escribir dataframe en un archivo csv\n",
    "# df_pe.to_csv(r\"archivos/precios_historicos.csv\", index=False)"
   ]
  }
 ],
 "metadata": {
  "kernelspec": {
   "display_name": "Python 3",
   "language": "python",
   "name": "python3"
  },
  "language_info": {
   "codemirror_mode": {
    "name": "ipython",
    "version": 3
   },
   "file_extension": ".py",
   "mimetype": "text/x-python",
   "name": "python",
   "nbconvert_exporter": "python",
   "pygments_lexer": "ipython3",
   "version": "3.6.8"
  }
 },
 "nbformat": 4,
 "nbformat_minor": 2
}
