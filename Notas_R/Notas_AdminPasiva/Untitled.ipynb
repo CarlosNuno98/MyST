{
  "metadata": {
    "language_info": {
      "mimetype": "text/x-r-source",
      "name": "R",
      "pygments_lexer": "r",
      "version": "3.4.1",
      "file_extension": ".r",
      "codemirror_mode": "r"
    },
    "kernelspec": {
      "name": "r",
      "display_name": "R",
      "language": "R"
    }
  },
  "nbformat_minor": 2,
  "nbformat": 4,
  "cells": [
    {
      "cell_type": "markdown",
      "source": "## __NOTAS:__ Administración Pasiva del capital",
      "metadata": {}
    },
    {
      "cell_type": "markdown",
      "source": "### __Materia:__ Microestructura y Sistemas de Trading",
      "metadata": {}
    },
    {
      "cell_type": "markdown",
      "source": "### Ingeniería Financiera : ITESO",
      "metadata": {}
    },
    {
      "cell_type": "markdown",
      "source": "### Profesor: Francisco Muñoz",
      "metadata": {}
    },
    {
      "cell_type": "markdown",
      "source": "---",
      "metadata": {}
    },
    {
      "cell_type": "code",
      "source": "### Car",
      "metadata": {},
      "execution_count": null,
      "outputs": []
    }
  ]
}