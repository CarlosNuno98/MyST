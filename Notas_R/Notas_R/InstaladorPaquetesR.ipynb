{
 "cells": [
  {
   "cell_type": "markdown",
   "metadata": {},
   "source": [
    "## Código: Verificar e instalar de paquetes en Maquinas virtuales"
   ]
  },
  {
   "cell_type": "markdown",
   "metadata": {},
   "source": [
    "## Lenguaje: R"
   ]
  },
  {
   "cell_type": "markdown",
   "metadata": {},
   "source": [
    "## Autor: Francisco Muñoz"
   ]
  },
  {
   "cell_type": "code",
   "execution_count": null,
   "metadata": {},
   "outputs": [],
   "source": [
    "# -- Paquetes a instalar\n",
    "\n",
    "pkg <- c(\"base\", \"ggplot2\", \"ROI\", \"readxl\", \"xts\", \"zoo\", \"PortfolioAnalytics\", \"shiny\")"
   ]
  },
  {
   "cell_type": "code",
   "execution_count": null,
   "metadata": {},
   "outputs": [],
   "source": [
    "# -- Diagnostico\n",
    "\n",
    "Instalados <- pkg %in% installed.packages()"
   ]
  },
  {
   "cell_type": "code",
   "execution_count": null,
   "metadata": {},
   "outputs": [],
   "source": [
    "# -- Paquetes ya instalados y los que hace falta instalar\n",
    "\n",
    "if(!is.null(pkg[!Instalados])){\n",
    "    print(paste0(\"Los paquetes que hacen falta instalar son: \", pkg[!Instalados]))\n",
    "} else {print(\"Todos los paquetes ya estan instalados\")}"
   ]
  },
  {
   "cell_type": "code",
   "execution_count": null,
   "metadata": {},
   "outputs": [],
   "source": [
    "# -- Instalar paquetes\n",
    "\n",
    "if(length(pkg[!Instalados]) > 0) install.packages(pkg[!Instalados])\n",
    "installedpackages <- lapply(pkg, library, character.only=TRUE)\n",
    "    \n",
    "NoInstalados <- pkg[!pkg %in% installed.packages()]"
   ]
  },
  {
   "cell_type": "code",
   "execution_count": null,
   "metadata": {},
   "outputs": [],
   "source": [
    "# -- Mensaje Final\n",
    "\n",
    "if(!is.null(NoInstalados)){\n",
    "    print(paste0(\"Los paquetes no instalados fueron: \", NoInstalados))\n",
    "} else {\n",
    "    print(\"Todos los paquetes quedaron instalados\")\n",
    "}"
   ]
  }
 ],
 "metadata": {
  "kernelspec": {
   "display_name": "R",
   "language": "R",
   "name": "ir"
  },
  "language_info": {
   "codemirror_mode": "r",
   "file_extension": ".r",
   "mimetype": "text/x-r-source",
   "name": "R",
   "pygments_lexer": "r",
   "version": "3.4.4"
  }
 },
 "nbformat": 4,
 "nbformat_minor": 2
}
