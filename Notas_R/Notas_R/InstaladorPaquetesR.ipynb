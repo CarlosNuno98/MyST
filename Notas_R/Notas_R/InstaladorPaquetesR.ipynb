{
  "metadata": {
    "language_info": {
      "mimetype": "text/x-r-source",
      "name": "R",
      "pygments_lexer": "r",
      "version": "3.4.1",
      "file_extension": ".r",
      "codemirror_mode": "r"
    },
    "kernelspec": {
      "name": "r",
      "display_name": "R",
      "language": "R"
    }
  },
  "nbformat_minor": 2,
  "nbformat": 4,
  "cells": [
    {
      "cell_type": "markdown",
      "source": "## Código: Verificar e instalar de paquetes en Maquinas virtuales",
      "metadata": {}
    },
    {
      "cell_type": "markdown",
      "source": "## Lenguaje: R",
      "metadata": {}
    },
    {
      "cell_type": "markdown",
      "source": "## Autor: Francisco Muñoz",
      "metadata": {}
    },
    {
      "cell_type": "code",
      "source": "# -- Paquetes a instalar\n\npkg <- c(\"base\", \"ggplot2\", \"ROI\", \"readxl\", \"xts\", \"zoo\", \"PortfolioAnalytics\", \"shiny\")",
      "metadata": {
        "trusted": true
      },
      "execution_count": null,
      "outputs": []
    },
    {
      "cell_type": "code",
      "source": "# -- Diagnostico\n\nInstalados <- pkg %in% installed.packages()",
      "metadata": {
        "trusted": true
      },
      "execution_count": null,
      "outputs": []
    },
    {
      "cell_type": "code",
      "source": "# -- Paquetes ya instalados y los que hace falta instalar\n\nif(!is.null(pkg[!Instalados])){\n    print(paste0(\"Los paquetes que hacen falta instalar son: \", pkg[!Instalados]))\n} else {print(\"Todos los paquetes ya estan instalados\")}",
      "metadata": {
        "trusted": true
      },
      "execution_count": null,
      "outputs": []
    },
    {
      "cell_type": "code",
      "source": "# -- Instalar paquetes\n\nif(length(pkg[!Instalados]) > 0) install.packages(pkg[!Instalados])\ninstalledpackages <- lapply(pkg, library, character.only=TRUE)\n    \nNoInstalados <- pkg[!pkg %in% installed.packages()]",
      "metadata": {
        "trusted": true
      },
      "execution_count": null,
      "outputs": []
    },
    {
      "cell_type": "code",
      "source": "# -- Mensaje Final\n\nif(!is.null(NoInstalados)){\n    print(paste0(\"Los paquetes no instalados fueron: \", NoInstalados))\n} else {\n    print(\"Todos los paquetes quedaron instalados\")\n}",
      "metadata": {
        "trusted": true
      },
      "execution_count": null,
      "outputs": []
    }
  ]
}