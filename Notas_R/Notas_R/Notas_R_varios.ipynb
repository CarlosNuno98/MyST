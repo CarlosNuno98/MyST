{
 "cells": [
  {
   "cell_type": "markdown",
   "metadata": {},
   "source": [
    "# Notas de repaso: **R**\n",
    "### Materia: **Microestructura y Sistemas de Trading**\n",
    "### Profesor: franciscome@iteso.mx\n",
    "### Fecha: *Enero, 2019*"
   ]
  },
  {
   "cell_type": "markdown",
   "metadata": {},
   "source": [
    "---"
   ]
  },
  {
   "cell_type": "markdown",
   "metadata": {},
   "source": [
    "## Instalar/Cargar paquetes"
   ]
  },
  {
   "cell_type": "code",
   "execution_count": 3,
   "metadata": {},
   "outputs": [
    {
     "name": "stderr",
     "output_type": "stream",
     "text": [
      "Loading required package: zoo\n",
      "\n",
      "Attaching package: ‘zoo’\n",
      "\n",
      "The following objects are masked from ‘package:base’:\n",
      "\n",
      "    as.Date, as.Date.numeric\n",
      "\n"
     ]
    }
   ],
   "source": [
    "# Vector con el nombre de los paquetes a utilizar\n",
    "pkg <- c(\"base\",\"openxlsx\",\"xts\",\"zoo\")\n",
    "\n",
    "# Solicitar los paquetes instalados en la computadora\n",
    "# utilizar el operador %in% para verificar cuales de los paquetes, dentro de \"pkg\" estan instalados\n",
    "# se guardara vector lógico, TRUE (instalados) o FALSE (no instalados) de la misma longitud que \"pkg\"\n",
    "instalados <- pkg %in% installed.packages()\n",
    "\n",
    "# si hay, cuando menos 1 paquete no instalado, se tendrá un TRUE Y se usará para seleccionar de \"pkg\"\n",
    "# se instala en caso de no contar con el o sólo se carga en caso de si tenerlo ya instalado\n",
    "if(length(pkg[!instalados]) > 0) install.packages(pkg[!instalados])\n",
    "installedpackages <- lapply(pkg, library, character.only=TRUE)"
   ]
  },
  {
   "cell_type": "code",
   "execution_count": 2,
   "metadata": {},
   "outputs": [],
   "source": []
  },
  {
   "cell_type": "code",
   "execution_count": 109,
   "metadata": {},
   "outputs": [],
   "source": [
    "NumeroEntero <- 5\n",
    "NumeroDecimal <- 5.1\n",
    "Caracter <- \"5.2\""
   ]
  },
  {
   "cell_type": "markdown",
   "metadata": {},
   "source": [
    "## Logica de operadores"
   ]
  },
  {
   "cell_type": "code",
   "execution_count": 110,
   "metadata": {},
   "outputs": [
    {
     "name": "stdout",
     "output_type": "stream",
     "text": [
      "[1] 5.2\n"
     ]
    }
   ],
   "source": [
    "# en R la logica de uso es funcion()\n",
    "# Ejem: Para convertir de caracter a numerico\n",
    "NuevoNumero <- as.numeric(Caracter)\n",
    "print(NuevoNumero)"
   ]
  },
  {
   "cell_type": "markdown",
   "metadata": {},
   "source": [
    "## Estructuras para datos"
   ]
  },
  {
   "cell_type": "markdown",
   "metadata": {},
   "source": [
    "## Vector"
   ]
  },
  {
   "cell_type": "code",
   "execution_count": 111,
   "metadata": {},
   "outputs": [
    {
     "name": "stdout",
     "output_type": "stream",
     "text": [
      "[1] 1.0 5.0 3.5\n",
      "[1] \"1\"   \"5\"   \"3.5\"\n"
     ]
    }
   ],
   "source": [
    "VectorNumeros <- c(1, 5, 3.5)\n",
    "VectorCaracter <- c(\"1\", \"5\", \"3.5\")\n",
    "print(VectorNumeros)\n",
    "print(VectorCaracter)"
   ]
  },
  {
   "cell_type": "markdown",
   "metadata": {},
   "source": [
    "### Matrizces"
   ]
  },
  {
   "cell_type": "code",
   "execution_count": 112,
   "metadata": {},
   "outputs": [
    {
     "data": {
      "text/html": [
       "<table>\n",
       "<tbody>\n",
       "\t<tr><td>1 </td><td>5 </td><td> 9</td></tr>\n",
       "\t<tr><td>2 </td><td>6 </td><td>10</td></tr>\n",
       "\t<tr><td>3 </td><td>7 </td><td>11</td></tr>\n",
       "\t<tr><td>4 </td><td>8 </td><td>12</td></tr>\n",
       "</tbody>\n",
       "</table>\n"
      ],
      "text/latex": [
       "\\begin{tabular}{lll}\n",
       "\t 1  & 5  &  9\\\\\n",
       "\t 2  & 6  & 10\\\\\n",
       "\t 3  & 7  & 11\\\\\n",
       "\t 4  & 8  & 12\\\\\n",
       "\\end{tabular}\n"
      ],
      "text/markdown": [
       "\n",
       "| 1  | 5  |  9 | \n",
       "| 2  | 6  | 10 | \n",
       "| 3  | 7  | 11 | \n",
       "| 4  | 8  | 12 | \n",
       "\n",
       "\n"
      ],
      "text/plain": [
       "     [,1] [,2] [,3]\n",
       "[1,] 1    5     9  \n",
       "[2,] 2    6    10  \n",
       "[3,] 3    7    11  \n",
       "[4,] 4    8    12  "
      ]
     },
     "metadata": {},
     "output_type": "display_data"
    }
   ],
   "source": [
    "secuencia <- seq(from = 1, to = 12, by = 1)\n",
    "ma <- matrix(nrow = 4, ncol = 3, data=secuencia)\n",
    "ma"
   ]
  },
  {
   "cell_type": "markdown",
   "metadata": {},
   "source": [
    "### DataFrame"
   ]
  },
  {
   "cell_type": "code",
   "execution_count": 113,
   "metadata": {},
   "outputs": [],
   "source": [
    "df <- data.frame(\"Columna_1\" = c(Sys.Date()-3,Sys.Date()-2,Sys.Date()-1,Sys.Date()),\n",
    "                 \"Columna_2\" = c(\"Dato1\", \"Dato2\", \"Dato3\", \"Dato4\"),\n",
    "                 \"Columna_3\" = c(1.1415, 1.1516, 1.1503, 1.1303))"
   ]
  },
  {
   "cell_type": "code",
   "execution_count": 114,
   "metadata": {},
   "outputs": [
    {
     "data": {
      "text/html": [
       "<table>\n",
       "<thead><tr><th scope=col>Columna_1</th><th scope=col>Columna_2</th><th scope=col>Columna_3</th></tr></thead>\n",
       "<tbody>\n",
       "\t<tr><td>2019-01-18</td><td>Dato1     </td><td>1.1415    </td></tr>\n",
       "\t<tr><td>2019-01-19</td><td>Dato2     </td><td>1.1516    </td></tr>\n",
       "\t<tr><td>2019-01-20</td><td>Dato3     </td><td>1.1503    </td></tr>\n",
       "\t<tr><td>2019-01-21</td><td>Dato4     </td><td>1.1303    </td></tr>\n",
       "</tbody>\n",
       "</table>\n"
      ],
      "text/latex": [
       "\\begin{tabular}{r|lll}\n",
       " Columna\\_1 & Columna\\_2 & Columna\\_3\\\\\n",
       "\\hline\n",
       "\t 2019-01-18 & Dato1      & 1.1415    \\\\\n",
       "\t 2019-01-19 & Dato2      & 1.1516    \\\\\n",
       "\t 2019-01-20 & Dato3      & 1.1503    \\\\\n",
       "\t 2019-01-21 & Dato4      & 1.1303    \\\\\n",
       "\\end{tabular}\n"
      ],
      "text/markdown": [
       "\n",
       "Columna_1 | Columna_2 | Columna_3 | \n",
       "|---|---|---|---|\n",
       "| 2019-01-18 | Dato1      | 1.1415     | \n",
       "| 2019-01-19 | Dato2      | 1.1516     | \n",
       "| 2019-01-20 | Dato3      | 1.1503     | \n",
       "| 2019-01-21 | Dato4      | 1.1303     | \n",
       "\n",
       "\n"
      ],
      "text/plain": [
       "  Columna_1  Columna_2 Columna_3\n",
       "1 2019-01-18 Dato1     1.1415   \n",
       "2 2019-01-19 Dato2     1.1516   \n",
       "3 2019-01-20 Dato3     1.1503   \n",
       "4 2019-01-21 Dato4     1.1303   "
      ]
     },
     "metadata": {},
     "output_type": "display_data"
    }
   ],
   "source": [
    "df"
   ]
  },
  {
   "cell_type": "code",
   "execution_count": 115,
   "metadata": {},
   "outputs": [
    {
     "name": "stdout",
     "output_type": "stream",
     "text": [
      "[1] 1.1415\n"
     ]
    }
   ],
   "source": [
    "# Para indexar data.frame se indica [renglon,columna]\n",
    "print(df[1,3])"
   ]
  },
  {
   "cell_type": "markdown",
   "metadata": {},
   "source": [
    "### Lista"
   ]
  },
  {
   "cell_type": "code",
   "execution_count": 121,
   "metadata": {},
   "outputs": [],
   "source": [
    "Lista <- list(Numeros=c(1,2,3), Caracter=\"c\", FechaHumanos=Sys.Date(), FechaMaquina=as.numeric(Sys.Date()))"
   ]
  },
  {
   "cell_type": "code",
   "execution_count": 122,
   "metadata": {},
   "outputs": [
    {
     "name": "stdout",
     "output_type": "stream",
     "text": [
      "List of 4\n",
      " $ Numeros     : num [1:3] 1 2 3\n",
      " $ Caracter    : chr \"c\"\n",
      " $ FechaHumanos: Date[1:1], format: \"2019-01-21\"\n",
      " $ FechaMaquina: num 17917\n"
     ]
    }
   ],
   "source": [
    "# Visualizar la estructura y contenido de un objeto\n",
    "str(Lista)"
   ]
  },
  {
   "cell_type": "code",
   "execution_count": 123,
   "metadata": {},
   "outputs": [
    {
     "data": {
      "text/html": [
       "1"
      ],
      "text/latex": [
       "1"
      ],
      "text/markdown": [
       "1"
      ],
      "text/plain": [
       "[1] 1"
      ]
     },
     "metadata": {},
     "output_type": "display_data"
    }
   ],
   "source": [
    "# El primer integrante, va en [[ ]], del primer elemento, ya en [ ], de la lista\n",
    "Lista[[1]][1]"
   ]
  },
  {
   "cell_type": "code",
   "execution_count": 124,
   "metadata": {},
   "outputs": [
    {
     "data": {
      "text/html": [
       "1"
      ],
      "text/latex": [
       "1"
      ],
      "text/markdown": [
       "1"
      ],
      "text/plain": [
       "[1] 1"
      ]
     },
     "metadata": {},
     "output_type": "display_data"
    }
   ],
   "source": [
    "# O utilizando los nombres de los indices, con $ indexamos por nombre.\n",
    "Lista$Numeros[1]"
   ]
  },
  {
   "cell_type": "code",
   "execution_count": 125,
   "metadata": {},
   "outputs": [],
   "source": [
    "# Una lista nombrada que a su vez contiene otras listas\n",
    "ListaDeLista <- list(\"Primer: Vector Numerico\" = c(3.14159,8,-61.1),\n",
    "                     \"Segundo: Vector Caracter\" = c(\"H\",\"O\",\"L\",\"A\"), \n",
    "                     \"Tercero: Lista Previa\" = Lista)"
   ]
  },
  {
   "cell_type": "code",
   "execution_count": 126,
   "metadata": {},
   "outputs": [
    {
     "data": {
      "text/html": [
       "<dl>\n",
       "\t<dt>$`Primer: Vector Numerico`</dt>\n",
       "\t\t<dd><ol class=list-inline>\n",
       "\t<li>3.14159</li>\n",
       "\t<li>8</li>\n",
       "\t<li>-61.1</li>\n",
       "</ol>\n",
       "</dd>\n",
       "\t<dt>$`Segundo: Vector Caracter`</dt>\n",
       "\t\t<dd><ol class=list-inline>\n",
       "\t<li>'H'</li>\n",
       "\t<li>'O'</li>\n",
       "\t<li>'L'</li>\n",
       "\t<li>'A'</li>\n",
       "</ol>\n",
       "</dd>\n",
       "\t<dt>$`Tercero: Lista Previa`</dt>\n",
       "\t\t<dd><dl>\n",
       "\t<dt>$Numeros</dt>\n",
       "\t\t<dd><ol class=list-inline>\n",
       "\t<li>1</li>\n",
       "\t<li>2</li>\n",
       "\t<li>3</li>\n",
       "</ol>\n",
       "</dd>\n",
       "\t<dt>$Caracter</dt>\n",
       "\t\t<dd>'c'</dd>\n",
       "\t<dt>$FechaHumanos</dt>\n",
       "\t\t<dd><time datetime=\"2019-01-21\">2019-01-21</time></dd>\n",
       "\t<dt>$FechaMaquina</dt>\n",
       "\t\t<dd>17917</dd>\n",
       "</dl>\n",
       "</dd>\n",
       "</dl>\n"
      ],
      "text/latex": [
       "\\begin{description}\n",
       "\\item[\\$`Primer: Vector Numerico`] \\begin{enumerate*}\n",
       "\\item 3.14159\n",
       "\\item 8\n",
       "\\item -61.1\n",
       "\\end{enumerate*}\n",
       "\n",
       "\\item[\\$`Segundo: Vector Caracter`] \\begin{enumerate*}\n",
       "\\item 'H'\n",
       "\\item 'O'\n",
       "\\item 'L'\n",
       "\\item 'A'\n",
       "\\end{enumerate*}\n",
       "\n",
       "\\item[\\$`Tercero: Lista Previa`] \\begin{description}\n",
       "\\item[\\$Numeros] \\begin{enumerate*}\n",
       "\\item 1\n",
       "\\item 2\n",
       "\\item 3\n",
       "\\end{enumerate*}\n",
       "\n",
       "\\item[\\$Caracter] 'c'\n",
       "\\item[\\$FechaHumanos] 2019-01-21\n",
       "\\item[\\$FechaMaquina] 17917\n",
       "\\end{description}\n",
       "\n",
       "\\end{description}\n"
      ],
      "text/markdown": [
       "$`Primer: Vector Numerico`\n",
       ":   1. 3.14159\n",
       "2. 8\n",
       "3. -61.1\n",
       "\n",
       "\n",
       "\n",
       "$`Segundo: Vector Caracter`\n",
       ":   1. 'H'\n",
       "2. 'O'\n",
       "3. 'L'\n",
       "4. 'A'\n",
       "\n",
       "\n",
       "\n",
       "$`Tercero: Lista Previa`\n",
       ":   $Numeros\n",
       ":   1. 1\n",
       "2. 2\n",
       "3. 3\n",
       "\n",
       "\n",
       "\n",
       "$Caracter\n",
       ":   'c'\n",
       "$FechaHumanos\n",
       ":   2019-01-21\n",
       "$FechaMaquina\n",
       ":   17917\n",
       "\n",
       "\n",
       "\n",
       "\n",
       "\n"
      ],
      "text/plain": [
       "$`Primer: Vector Numerico`\n",
       "[1]   3.14159   8.00000 -61.10000\n",
       "\n",
       "$`Segundo: Vector Caracter`\n",
       "[1] \"H\" \"O\" \"L\" \"A\"\n",
       "\n",
       "$`Tercero: Lista Previa`\n",
       "$`Tercero: Lista Previa`$Numeros\n",
       "[1] 1 2 3\n",
       "\n",
       "$`Tercero: Lista Previa`$Caracter\n",
       "[1] \"c\"\n",
       "\n",
       "$`Tercero: Lista Previa`$FechaHumanos\n",
       "[1] \"2019-01-21\"\n",
       "\n",
       "$`Tercero: Lista Previa`$FechaMaquina\n",
       "[1] 17917\n",
       "\n"
      ]
     },
     "metadata": {},
     "output_type": "display_data"
    }
   ],
   "source": [
    "ListaDeLista"
   ]
  },
  {
   "cell_type": "markdown",
   "metadata": {},
   "source": [
    "## Ciclos de control"
   ]
  },
  {
   "cell_type": "code",
   "execution_count": 127,
   "metadata": {},
   "outputs": [
    {
     "name": "stdout",
     "output_type": "stream",
     "text": [
      "[1] 1\n",
      "[1] 2\n",
      "[1] 3\n",
      "[1] 4\n",
      "[1] 5\n"
     ]
    }
   ],
   "source": [
    "# no es necesaria identacion en los ciclos, pero se sugiere para tener orden visual\n",
    "# las llaves {} si son necesarias\n",
    "for(i in 1:5){\n",
    "    print(i)\n",
    "}"
   ]
  },
  {
   "cell_type": "code",
   "execution_count": 128,
   "metadata": {},
   "outputs": [
    {
     "name": "stdout",
     "output_type": "stream",
     "text": [
      "[1] \"3 es menor que 5\"\n"
     ]
    }
   ],
   "source": [
    "a <- 3\n",
    "b <- 5\n",
    "if(a>b){\n",
    "    mensaje <- paste0(a, \" es mayor que \", b)\n",
    "    print(mensaje)\n",
    "} else {\n",
    "    mensaje <- paste0(a, \" es menor que \", b)\n",
    "    print(mensaje)\n",
    "}"
   ]
  },
  {
   "cell_type": "markdown",
   "metadata": {},
   "source": [
    "## Funciones Pre-cargadas en R"
   ]
  },
  {
   "cell_type": "code",
   "execution_count": 129,
   "metadata": {},
   "outputs": [
    {
     "data": {
      "text/html": [
       "<ol class=list-inline>\n",
       "\t<li>5</li>\n",
       "\t<li>6</li>\n",
       "\t<li>7</li>\n",
       "\t<li>9</li>\n",
       "</ol>\n"
      ],
      "text/latex": [
       "\\begin{enumerate*}\n",
       "\\item 5\n",
       "\\item 6\n",
       "\\item 7\n",
       "\\item 9\n",
       "\\end{enumerate*}\n"
      ],
      "text/markdown": [
       "1. 5\n",
       "2. 6\n",
       "3. 7\n",
       "4. 9\n",
       "\n",
       "\n"
      ],
      "text/plain": [
       "[1] 5 6 7 9"
      ]
     },
     "metadata": {},
     "output_type": "display_data"
    }
   ],
   "source": [
    "# Un comando para buscar los elementos que cumplan con una condicion y regresa el indice dentro de la lista\n",
    "# regresa todos los indices que fueron encontrados\n",
    "OtrosNumeros <- c(15,2,35,44,55,600,71,8,9000)\n",
    "which(OtrosNumeros > 50)"
   ]
  },
  {
   "cell_type": "code",
   "execution_count": 130,
   "metadata": {},
   "outputs": [
    {
     "data": {
      "text/html": [
       "TRUE"
      ],
      "text/latex": [
       "TRUE"
      ],
      "text/markdown": [
       "TRUE"
      ],
      "text/plain": [
       "[1] TRUE"
      ]
     },
     "metadata": {},
     "output_type": "display_data"
    }
   ],
   "source": [
    "# Un comando para encontrar si existe al menos 1 caso\n",
    "any(OtrosNumeros > 1000)"
   ]
  },
  {
   "cell_type": "code",
   "execution_count": 131,
   "metadata": {},
   "outputs": [
    {
     "data": {
      "text/html": [
       "<ol class=list-inline>\n",
       "\t<li>'Precios'</li>\n",
       "\t<li>'Volatilidad'</li>\n",
       "\t<li>'1'</li>\n",
       "\t<li>'17917'</li>\n",
       "</ol>\n"
      ],
      "text/latex": [
       "\\begin{enumerate*}\n",
       "\\item 'Precios'\n",
       "\\item 'Volatilidad'\n",
       "\\item '1'\n",
       "\\item '17917'\n",
       "\\end{enumerate*}\n"
      ],
      "text/markdown": [
       "1. 'Precios'\n",
       "2. 'Volatilidad'\n",
       "3. '1'\n",
       "4. '17917'\n",
       "\n",
       "\n"
      ],
      "text/plain": [
       "[1] \"Precios\"     \"Volatilidad\" \"1\"           \"17917\"      \n",
       "attr(,\"na.action\")\n",
       "[1] 2\n",
       "attr(,\"class\")\n",
       "[1] \"omit\""
      ]
     },
     "metadata": {},
     "output_type": "display_data"
    }
   ],
   "source": [
    "# Para eliminar de una lista los valores NA\n",
    "Lista <- c(\"Precios\", NA, \"Volatilidad\", 1, Sys.Date())\n",
    "na.omit(Lista)"
   ]
  }
 ],
 "metadata": {
  "kernelspec": {
   "display_name": "R",
   "language": "R",
   "name": "ir"
  },
  "language_info": {
   "codemirror_mode": "r",
   "file_extension": ".r",
   "mimetype": "text/x-r-source",
   "name": "R",
   "pygments_lexer": "r",
   "version": "3.4.4"
  }
 },
 "nbformat": 4,
 "nbformat_minor": 2
}
