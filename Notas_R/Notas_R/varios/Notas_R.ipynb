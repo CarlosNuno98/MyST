{
 "cells": [
  {
   "cell_type": "markdown",
   "metadata": {},
   "source": [
    "# Notas R"
   ]
  },
  {
   "cell_type": "code",
   "execution_count": 3,
   "metadata": {
    "collapsed": true
   },
   "outputs": [],
   "source": [
    "pkg <- c(\"base\",\"readxl\",\"xts\",\"zoo\")\n",
    "\n",
    "# Solicitar los paquetes instalados en la computadora\n",
    "# utilizar el operador %in% para verificar cuales de los paquetes, dentro de \"pkg\" estan instalados\n",
    "# se guardara vector lógico, TRUE (instalados) o FALSE (no instalados) de la misma longitud que \"pkg\"\n",
    "instalados <- pkg %in% installed.packages()\n",
    "\n",
    "# si hay, cuando menos 1 paquete no instalado, se tendrá un TRUE Y se usará para seleccionar de \"pkg\"\n",
    "# se instala en caso de no contar con el o sólo se carga en caso de si tenerlo ya instalado\n",
    "if(length(pkg[!instalados]) > 0) install.packages(pkg[!instalados])\n",
    "installedpackages <- lapply(pkg, library, character.only=TRUE)"
   ]
  },
  {
   "cell_type": "code",
   "execution_count": 4,
   "metadata": {},
   "outputs": [
    {
     "data": {
      "text/html": [
       "<time datetime=\"2018-08-16\">2018-08-16</time>"
      ],
      "text/latex": [
       "2018-08-16"
      ],
      "text/markdown": [
       "2018-08-16"
      ],
      "text/plain": [
       "[1] \"2018-08-16\""
      ]
     },
     "metadata": {},
     "output_type": "display_data"
    },
    {
     "data": {
      "text/html": [
       "<time datetime=\"2018-08-15\">2018-08-15</time>"
      ],
      "text/latex": [
       "2018-08-15"
      ],
      "text/markdown": [
       "2018-08-15"
      ],
      "text/plain": [
       "[1] \"2018-08-15\""
      ]
     },
     "metadata": {},
     "output_type": "display_data"
    },
    {
     "data": {
      "text/html": [
       "<time datetime=\"2018-05-08\">2018-05-08</time>"
      ],
      "text/latex": [
       "2018-05-08"
      ],
      "text/markdown": [
       "2018-05-08"
      ],
      "text/plain": [
       "[1] \"2018-05-08\""
      ]
     },
     "metadata": {},
     "output_type": "display_data"
    },
    {
     "data": {
      "text/html": [
       "1"
      ],
      "text/latex": [
       "1"
      ],
      "text/markdown": [
       "1"
      ],
      "text/plain": [
       "[1] 1"
      ]
     },
     "metadata": {},
     "output_type": "display_data"
    },
    {
     "data": {
      "text/html": [
       "1"
      ],
      "text/latex": [
       "1"
      ],
      "text/markdown": [
       "1"
      ],
      "text/plain": [
       "[1] 1"
      ]
     },
     "metadata": {},
     "output_type": "display_data"
    },
    {
     "name": "stdout",
     "output_type": "stream",
     "text": [
      "List of 3\n",
      " $ Numeros : num [1:3] 1 2 3\n",
      " $ Caracter: chr \"c\"\n",
      " $ Fecha   : Date[1:1], format: \"2018-08-16\"\n",
      "[1] 1\n",
      "[1] 2\n",
      "[1] 3\n",
      "[1] 4\n",
      "[1] 5\n",
      "[1] 1\n",
      "[1] 2\n",
      "[1] 3\n",
      "[1] 4\n",
      "[1] 5\n",
      "[1] \"fuera del ciclo\"\n"
     ]
    },
    {
     "data": {
      "text/html": [
       "<ol class=list-inline>\n",
       "\t<li>5</li>\n",
       "\t<li>6</li>\n",
       "\t<li>7</li>\n",
       "\t<li>9</li>\n",
       "</ol>\n"
      ],
      "text/latex": [
       "\\begin{enumerate*}\n",
       "\\item 5\n",
       "\\item 6\n",
       "\\item 7\n",
       "\\item 9\n",
       "\\end{enumerate*}\n"
      ],
      "text/markdown": [
       "1. 5\n",
       "2. 6\n",
       "3. 7\n",
       "4. 9\n",
       "\n",
       "\n"
      ],
      "text/plain": [
       "[1] 5 6 7 9"
      ]
     },
     "metadata": {},
     "output_type": "display_data"
    },
    {
     "data": {
      "text/html": [
       "TRUE"
      ],
      "text/latex": [
       "TRUE"
      ],
      "text/markdown": [
       "TRUE"
      ],
      "text/plain": [
       "[1] TRUE"
      ]
     },
     "metadata": {},
     "output_type": "display_data"
    }
   ],
   "source": [
    "# La fecha de HOY\n",
    "Sys.Date()\n",
    "\n",
    "# La fecha de AYER\n",
    "Sys.Date()-1\n",
    "\n",
    "# La fecha de hace 100 días (Incluyendo sábados y domingos)\n",
    "Sys.Date()-100\n",
    "\n",
    "# Una lista, con 3 elementos de distintos tipos de datos\n",
    "Lista <- list(Numeros=c(1,2,3), Caracter=\"c\", Fecha=Sys.Date())\n",
    "\n",
    "# El primer integrante, va en [[ ]], del primer elemento, ya en [ ], de la lista\n",
    "Lista[[1]][1]\n",
    "\n",
    "# O utilizando los nombres de los indices, con $ indexamos por nombre.\n",
    "Lista$Numeros[1]\n",
    "\n",
    "# Visualizar la estructura y contenido de un objeto\n",
    "str(Lista)\n",
    "\n",
    "# En R y en muchos otros lenguajes, Un FOR o IF de una sola instrucción no necesita paréntesis\n",
    "\n",
    "for(i in 1:5)\n",
    "  print(i)\n",
    "  \n",
    "# Pero sólo es útil cuando es una sola instrucción\n",
    "for(i in 1:5)\n",
    "  print(i)\n",
    "  print(\"fuera del ciclo\")\n",
    "\n",
    "# Un comando para buscar y señalar índice de elemento encontrado\n",
    "OtrosNumeros <- c(15,2,35,44,55,600,71,8,9000)\n",
    "which(OtrosNumeros > 50)\n",
    "\n",
    "# Un comando para encontrar si existe al menos 1 caso TRUE\n",
    "any(OtrosNumeros > 1000)"
   ]
  },
  {
   "cell_type": "code",
   "execution_count": null,
   "metadata": {},
   "outputs": [],
   "source": []
  }
 ],
 "metadata": {
  "kernelspec": {
   "display_name": "R",
   "language": "R",
   "name": "ir"
  },
  "language_info": {
   "codemirror_mode": "r",
   "file_extension": ".r",
   "mimetype": "text/x-r-source",
   "name": "R",
   "pygments_lexer": "r",
   "version": "3.4.4"
  }
 },
 "nbformat": 4,
 "nbformat_minor": 2
}
